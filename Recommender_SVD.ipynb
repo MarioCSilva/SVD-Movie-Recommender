{
 "cells": [
  {
   "cell_type": "markdown",
   "metadata": {},
   "source": [
    "# Movie Recommender System\n",
    "\n",
    "A recommender system is a system that attempts to predict the rating or preference a user would give to a certain item.\n",
    "In this case, it is intended to create a movie recommender system.\n",
    "\n",
    "A popular algorithm for these kind of systems is the Singular Value Decomposition (SVD), that has been utilized to achieve better results, as it will be demonstrated ahead."
   ]
  },
  {
   "cell_type": "markdown",
   "metadata": {},
   "source": [
    "## Dataset\n",
    "\n",
    "The MovieLens Dataset is most often used for the purpose of recommender systems, which aim to predict user movie ratings based on other users’ ratings.\n",
    "\n",
    "The dataset used was extracted from MovieLens and contains 100836 ratings and 3683 tag applications across 9742 movies. This data was created by 610 users between March 29, 1996 and September 24, 2018.\n",
    "\n",
    "The data are contained in the files:\n",
    "- Movies.csv: movieId, title, genres.\n",
    "- Ratings.csv: userId, movieId, rating, timestamp.\n",
    "- Tags.csv: userId, movieId, tag, timestamp."
   ]
  },
  {
   "cell_type": "code",
   "execution_count": 42,
   "metadata": {},
   "outputs": [],
   "source": [
    "# Import all necessary libraries\n",
    "import pandas as pd\n",
    "import matplotlib.pyplot as plt\n",
    "import numpy as np\n",
    "from funk_svd.dataset import fetch_ml_ratings\n",
    "from funk_svd import SVD\n",
    "from sklearn.metrics import mean_absolute_error, mean_squared_error\n",
    "import math"
   ]
  },
  {
   "cell_type": "markdown",
   "metadata": {},
   "source": [
    "## Data Analysis"
   ]
  },
  {
   "cell_type": "code",
   "execution_count": 43,
   "metadata": {},
   "outputs": [
    {
     "name": "stdout",
     "output_type": "stream",
     "text": [
      "1682\n"
     ]
    }
   ],
   "source": [
    "# Read Movie Data\n",
    "i_cols = ['movie_id', 'title' ,'release date','video release date', 'IMDb URL', 'unknown', 'Action', 'Adventure',\n",
    "'Animation', 'Children\\'s', 'Comedy', 'Crime', 'Documentary', 'Drama', 'Fantasy',\n",
    "'Film-Noir', 'Horror', 'Musical', 'Mystery', 'Romance', 'Sci-Fi', 'Thriller', 'War', 'Western']\n",
    "\n",
    "movies = pd.read_csv('ml-100k/u.item',  sep='|', names=i_cols, encoding='latin-1')\n",
    "\n",
    "movies.head()\n",
    "\n",
    "num_movies = len(movies)\n",
    "\n",
    "print(num_movies)"
   ]
  },
  {
   "cell_type": "code",
   "execution_count": 44,
   "metadata": {},
   "outputs": [
    {
     "name": "stdout",
     "output_type": "stream",
     "text": [
      "943\n"
     ]
    }
   ],
   "source": [
    "# user\n",
    "u_cols = ['user_id', 'age', 'sex', 'occupation', 'zip_code']\n",
    "users = pd.read_csv('ml-100k/u.user', sep='|', names=u_cols, encoding='latin-1')\n",
    "\n",
    "users.head()\n",
    "\n",
    "num_users = len(users)\n",
    "\n",
    "print(num_users)"
   ]
  },
  {
   "cell_type": "code",
   "execution_count": 45,
   "metadata": {},
   "outputs": [
    {
     "name": "stdout",
     "output_type": "stream",
     "text": [
      "            user_id       movie_id         rating     timestamp\n",
      "count  100000.00000  100000.000000  100000.000000  1.000000e+05\n",
      "mean      462.48475     425.530130       3.529860  8.835289e+08\n",
      "std       266.61442     330.798356       1.125674  5.343856e+06\n",
      "min         1.00000       1.000000       1.000000  8.747247e+08\n",
      "25%       254.00000     175.000000       3.000000  8.794487e+08\n",
      "50%       447.00000     322.000000       4.000000  8.828269e+08\n",
      "75%       682.00000     631.000000       4.000000  8.882600e+08\n",
      "max       943.00000    1682.000000       5.000000  8.932866e+08\n",
      "943\n",
      "1682\n"
     ]
    }
   ],
   "source": [
    "# Ratings\n",
    "r_cols = ['user_id', 'movie_id', 'rating', 'timestamp']\n",
    "\n",
    "ratings = pd.read_csv(\"ml-100k/u.data\", sep=\"\\t\", names=r_cols, encoding='latin-1')\n",
    "\n",
    "ratings.head()\n",
    "\n",
    "print(ratings.describe())\n",
    "\n",
    "print(len(ratings.user_id.unique()))\n",
    "print(len(ratings.movie_id.unique()))"
   ]
  },
  {
   "cell_type": "markdown",
   "metadata": {},
   "source": [
    "## Sparsity\n",
    "\n",
    "The Sparsity of a matrix is measured by the number of cells that do not have a value.\n",
    "As it can be seen bellow, the matrix of ratings in this dataset is going to be very sparse, having a sparsity of 93.7%,\n",
    "which means that the majority of users only rated a small percentage of the movies."
   ]
  },
  {
   "cell_type": "code",
   "execution_count": 46,
   "metadata": {},
   "outputs": [
    {
     "name": "stdout",
     "output_type": "stream",
     "text": [
      "Sparsity: 0.937\n"
     ]
    }
   ],
   "source": [
    "sparsity = 1 - len(ratings) / (num_users * num_movies)\n",
    "\n",
    "print(f\"Sparsity: {sparsity:.3f}\")"
   ]
  },
  {
   "cell_type": "markdown",
   "metadata": {},
   "source": [
    "Data Analysis"
   ]
  },
  {
   "cell_type": "code",
   "execution_count": 47,
   "metadata": {},
   "outputs": [
    {
     "data": {
      "image/png": "[encoded data removed]",
      "text/plain": [
       "<Figure size 432x288 with 1 Axes>"
      ]
     },
     "metadata": {
      "needs_background": "light"
     },
     "output_type": "display_data"
    }
   ],
   "source": [
    "plt.hist(ratings.rating, ec='black', bins=[0.5, 1.5, 2.5, 3.5, 4.5, 5.5])\n",
    "plt.xlabel(\"Rating\")\n",
    "plt.ylabel(\"Number of Ratings\")\n",
    "plt.title(\"Distribution of Ratings\")\n",
    "plt.xticks([1, 2, 3, 4, 5])\n",
    "plt.show()"
   ]
  },
  {
   "cell_type": "markdown",
   "metadata": {},
   "source": [
    "## Construct Matrix"
   ]
  },
  {
   "cell_type": "code",
   "execution_count": 48,
   "metadata": {},
   "outputs": [
    {
     "name": "stdout",
     "output_type": "stream",
     "text": [
      "(943, 1682)\n",
      "movie_id    1    2    3    4    5\n",
      "user_id                          \n",
      "1         5.0  3.0  4.0  3.0  3.0\n",
      "2         4.0  NaN  NaN  NaN  NaN\n",
      "3         NaN  NaN  NaN  NaN  NaN\n",
      "4         NaN  NaN  NaN  NaN  NaN\n",
      "5         4.0  3.0  NaN  NaN  NaN\n"
     ]
    }
   ],
   "source": [
    "ratings_matrix = ratings.pivot(index=\"user_id\", columns=\"movie_id\", values=\"rating\")\n",
    "\n",
    "print(ratings_matrix.shape)\n",
    "print(ratings_matrix.iloc[:5, :5])"
   ]
  },
  {
   "cell_type": "markdown",
   "metadata": {},
   "source": [
    "As it can be seen above, there are NaN entries on the matrix, which need to be replaced by some other value in order to perform the SVD.\n",
    "\n",
    "There are several approaches to this problem, such as replacing with zero value, or average of all ratings, or even the average rating of a user."
   ]
  },
  {
   "cell_type": "code",
   "execution_count": 49,
   "metadata": {},
   "outputs": [
    {
     "name": "stdout",
     "output_type": "stream",
     "text": [
      "3.52986\n",
      "movie_id        1        2        3        4        5\n",
      "user_id                                              \n",
      "1         5.00000  3.00000  4.00000  3.00000  3.00000\n",
      "2         4.00000  3.52986  3.52986  3.52986  3.52986\n",
      "3         3.52986  3.52986  3.52986  3.52986  3.52986\n",
      "4         3.52986  3.52986  3.52986  3.52986  3.52986\n",
      "5         4.00000  3.00000  3.52986  3.52986  3.52986\n",
      "movie_id    1    2    3    4    5\n",
      "user_id                          \n",
      "1         5.0  3.0  4.0  3.0  3.0\n",
      "2         4.0  0.0  0.0  0.0  0.0\n",
      "3         0.0  0.0  0.0  0.0  0.0\n",
      "4         0.0  0.0  0.0  0.0  0.0\n",
      "5         4.0  3.0  0.0  0.0  0.0\n"
     ]
    }
   ],
   "source": [
    "mean_rating = np.mean(ratings.rating)\n",
    "print(mean_rating)\n",
    "ratings_matrix_mean = ratings_matrix.fillna(mean_rating)\n",
    "print(ratings_matrix_mean.iloc[:5, :5])\n",
    "\n",
    "ratings_matrix = ratings_matrix.fillna(0)\n",
    "print(ratings_matrix.iloc[:5, :5])"
   ]
  },
  {
   "cell_type": "markdown",
   "metadata": {},
   "source": [
    "The sparsity mentioned above, can be verified by the percentage of zeros present in the matrix."
   ]
  },
  {
   "cell_type": "code",
   "execution_count": 50,
   "metadata": {},
   "outputs": [
    {
     "name": "stdout",
     "output_type": "stream",
     "text": [
      "Sparsity: 0.937\n"
     ]
    }
   ],
   "source": [
    "sparsity = 1 - np.count_nonzero(ratings_matrix) / (num_users * num_movies)\n",
    "print(f\"Sparsity: {sparsity:.3f}\")"
   ]
  },
  {
   "cell_type": "markdown",
   "metadata": {},
   "source": [
    "# SVD\n",
    "\n",
    "The SVD, Singular Value decomposition, its a technique that allows the factorization of the matrix data into a multiplication between three matrices, U, Sigma and V. The columns of the matrix U are considered the singular vectors on the left and the columns of the matrix V are the singular vectors on the right. Sigma has the singular values ​​diagonally.\n",
    "SVD contains some important properties:\n",
    "- It is always possible to decompose any matrix A into three matrices: U, Sigma and V.\n",
    "- U, Sigma and V are always unique matrices, which means that a set of U, Sigma and V represents a single matrix A.\n",
    "- U and V have orthonormal columns, which means that by multiplying the transpose of U with U, an identity matrix is ​​obtained.\n",
    "- The sigma matrix is ​​diagonal, which means that all non-diagonal values ​​have zero value. The diagonal entries of this matrix are always positive, and by convention they are sorted in descending order. "
   ]
  },
  {
   "cell_type": "code",
   "execution_count": 51,
   "metadata": {},
   "outputs": [
    {
     "name": "stdout",
     "output_type": "stream",
     "text": [
      "U:           0         1         2         3         4\n",
      "0 -0.065804  0.005975 -0.006133  0.084347 -0.014188\n",
      "1 -0.014021 -0.046626  0.052579 -0.016282  0.015467\n",
      "2 -0.005658 -0.025618  0.023362 -0.028564 -0.044057\n",
      "3 -0.005993 -0.020698  0.012452 -0.019697 -0.025116\n",
      "4 -0.032747  0.009159 -0.046131  0.014407 -0.010518\n",
      "S:             0\n",
      "0  640.633623\n",
      "1  244.836346\n",
      "2  217.846225\n",
      "3  159.153599\n",
      "4  158.211914\n",
      "VT:           0         1         2         3         4\n",
      "0 -0.095951 -0.035180 -0.019929 -0.059952 -0.021607\n",
      "1 -0.087240 -0.007025 -0.028618  0.013050 -0.015311\n",
      "2 -0.016974 -0.062504 -0.011641 -0.026446 -0.026460\n",
      "3  0.016206  0.003234  0.048801  0.043000  0.017901\n",
      "4  0.140506 -0.040758 -0.004402 -0.038221 -0.015655\n",
      "(943, 943)\n",
      "(943,)\n",
      "(943, 1682)\n"
     ]
    }
   ],
   "source": [
    "#TODO:\n",
    "# Get a few data for tests and then replace on train matrix\n",
    "# also do ratings_matrix = ratings_matrix.fillna(x) with x equal to the mean global rating\n",
    "# and then predict for a trained rating and untrained rating\n",
    "\n",
    "U, S, VT = np.linalg.svd(ratings_matrix, full_matrices=False)\n",
    "\n",
    "print(f\"U: {pd.DataFrame(U).iloc[:5, :5]}\")\n",
    "print(f\"S: {pd.DataFrame(S).iloc[:5, :]}\")\n",
    "print(f\"VT: {pd.DataFrame(VT).iloc[:5, :5]}\")\n",
    "print(U.shape)\n",
    "print(S.shape)\n",
    "print(VT.shape)"
   ]
  },
  {
   "cell_type": "markdown",
   "metadata": {},
   "source": [
    "## SVD Matrix Reconstruction"
   ]
  },
  {
   "cell_type": "markdown",
   "metadata": {},
   "source": [
    "The factorization of the matrixes U, Sigma and V will allow make an aproximation to the original matrix. Thus, we are able to reconstruct this matrix resulting in very small error values, as it is shown below. "
   ]
  },
  {
   "cell_type": "code",
   "execution_count": 52,
   "metadata": {},
   "outputs": [
    {
     "name": "stdout",
     "output_type": "stream",
     "text": [
      "[ 4.00000000e+00  6.77305434e-14 -4.48252546e-15  1.05335879e-13]\n",
      "[4. 0. 0. 0.]\n",
      "Reconstruction Mean Absolute Error:  1.7741150311163522e-15\n",
      "Reconstruction Mean Square Error:  9.528279844919797e-30\n",
      "Reconstruction Root Mean Square Error:  3.0867911890699373e-15\n"
     ]
    }
   ],
   "source": [
    "reconstructed_matrix = np.dot(U * S, VT)\n",
    "\n",
    "print(reconstructed_matrix[1][:4])\n",
    "print(ratings_matrix.iloc[1, :4].to_numpy())\n",
    "\n",
    "mae = np.average(np.absolute(ratings_matrix - reconstructed_matrix))\n",
    "mse = np.average((ratings_matrix - reconstructed_matrix) ** 2)\n",
    "rmse = math.sqrt(mse)\n",
    "print(\"Reconstruction Mean Absolute Error: \", mae)\n",
    "print(\"Reconstruction Mean Square Error: \", mse)\n",
    "print(\"Reconstruction Root Mean Square Error: \", rmse)"
   ]
  },
  {
   "cell_type": "markdown",
   "metadata": {},
   "source": [
    "## Truncated SVD\n",
    "SVD establishes linear relationships between data that best describe them.\n",
    "\n",
    "Through the singular values ​​obtained in the matrix S, which are indicators of the weight of each latent factor, we can choose R latent factors, which as the matrix is ​​ordered in descending order, we can only get the first values.\n",
    "\n",
    "This dimension reduction technique is called Truncated SVD.\n",
    "\n",
    "Truncated SVD allows the increasing of the performance of the system, and also the reduction of the overfit of a trained model, since latent factors with little weight can be seen as noise.\n",
    "\n",
    "We may reconstruct the matrix using 10 latent factors, for example, as it can be verified bellow. As expected the errors obtained are way higher than the previous ones."
   ]
  },
  {
   "cell_type": "code",
   "execution_count": 53,
   "metadata": {},
   "outputs": [
    {
     "name": "stdout",
     "output_type": "stream",
     "text": [
      "Reconstruction Mean Absolute Error:  0.28828730113395534\n",
      "Reconstruction Mean Square Error:  0.46087448189914654\n",
      "Reconstruction Root Mean Square Error:  0.6788773688223423\n"
     ]
    }
   ],
   "source": [
    "reconstructed_matrix = np.dot(U[:,:10] * S[:10], VT[:10,:])\n",
    "mae = np.average(np.absolute(ratings_matrix - reconstructed_matrix))\n",
    "mse = np.average((ratings_matrix - reconstructed_matrix) ** 2)\n",
    "rmse = math.sqrt(mse)\n",
    "print(\"Reconstruction Mean Absolute Error: \", mae)\n",
    "print(\"Reconstruction Mean Square Error: \", mse)\n",
    "print(\"Reconstruction Root Mean Square Error: \", rmse)"
   ]
  },
  {
   "cell_type": "markdown",
   "metadata": {},
   "source": [
    "## Funk SVD\n",
    "\n",
    "Funk SVD uses Stocasthic Gradient Descent(SGD) in order to obtain the matrices U and V. \n",
    "\n",
    "SGD uses labled data as training and tries to minimize the error of the model when predicting to another set, the validation set.\n",
    "\n",
    "The training set is obtained from the data by choosing randomly 80% of the ratings. The 20% left are split into validation and test set. \n",
    "The SVD model is trained for multiple epochs using the training set data. In order to see if the model is doing great it needs to be compared\n",
    "to data that it as not seen yet, the validation set. The test set is used to obtain the final error of the model.\n",
    "\n",
    "\n",
    "\n",
    "During the training there are a few parameters that can be adjusted in order to obtain better and/or faster results. \n",
    "\n",
    "- The learning rate, tells the model how much it can update the \"weights\" from one step to the other. Usually its a value between 0 and 1.\n",
    "\n",
    "- The Regularization parameter, helps the model prevent overfitting. The training data can have very little error while the validation/test set have high errors. This parameter if too high can be harmful for the performance of the model.\n",
    "\n",
    "- The number of epochs, is the number of times the model uses the data for training. The higher usually the better but after a number of epochs it might not be work training since the improvements can be negligable.\n",
    "\n",
    "- The number of latent factors can also be provided.\n",
    "\n"
   ]
  },
  {
   "cell_type": "code",
   "execution_count": 54,
   "metadata": {},
   "outputs": [],
   "source": [
    "%%capture\n",
    "#retrieve dataset with 100k rows\n",
    "df = fetch_ml_ratings(variant='100k')\n",
    "\n",
    "# data is randomly selected from the full data set\n",
    "# train      - 80%\n",
    "# validation - 10%\n",
    "# test       - 10%\n",
    "train = df.sample(frac=0.8, random_state=7)\n",
    "val = df.drop(train.index.tolist()).sample(frac=0.5, random_state=8)\n",
    "test = df.drop(train.index.tolist()).drop(val.index.tolist())\n",
    "\n",
    "# creates SVD model with the provided parameters\n",
    "svd = SVD(lr=0.001, reg=0.005, n_epochs=100, n_factors=15, early_stopping=True,\n",
    "          shuffle=False, min_rating=1, max_rating=5)\n",
    "\n",
    "# trains the model and compares its predictions error with the ratings in the validation set\n",
    "svd.fit(X=train, X_val=val)"
   ]
  },
  {
   "cell_type": "markdown",
   "metadata": {},
   "source": [
    "## MAE RMSE w/e\n",
    "\n",
    "After the model as finally trained, it is possible to calculate the error of the predictions. \n",
    "Here we are comparing its predictions for the user-movie ratings that are contained in the test set. There are multiple error measures being compared here.\n",
    "\n",
    "The mean absolute error values are usually around 0.75, which means that the model, is less than a rating value away from the correct value."
   ]
  },
  {
   "cell_type": "code",
   "execution_count": 55,
   "metadata": {},
   "outputs": [
    {
     "name": "stdout",
     "output_type": "stream",
     "text": [
      "Test MAE: 0.75\n",
      "Test MSE: 0.90\n",
      "Test RMSE: 0.95\n"
     ]
    }
   ],
   "source": [
    "pred = svd.predict(test)\n",
    "mae = mean_absolute_error(test['rating'], pred)\n",
    "msq = mean_squared_error(test['rating'], pred)\n",
    "rmsq = math.sqrt(msq)\n",
    "print(f'Test MAE: {mae:.2f}')\n",
    "print(f'Test MSE: {msq:.2f}')\n",
    "print(f'Test RMSE: {rmsq:.2f}')"
   ]
  },
  {
   "cell_type": "markdown",
   "metadata": {},
   "source": [
    "## Hyperparameters Tunning\n",
    "\n",
    "Adjusting the model parameters can give the model a better performance and thus allowing it to predict better the data that it as not seen.\n",
    "\n",
    "Here we experiment by training with different combinations of plausible values for both the learning rate and the number of latent factors.\n",
    "\n",
    "The errors are then compared in order to see which parameters are better suited for the model."
   ]
  },
  {
   "cell_type": "code",
   "execution_count": 56,
   "metadata": {},
   "outputs": [],
   "source": [
    "%%capture\n",
    "lrs = [0.0001, 0.001, 0.01, 0.1]\n",
    "factors = [5, 10, 15, 20, 25, 30]\n",
    "\n",
    "mae_outputs = {}\n",
    "\n",
    "# trains multiple combinations of parameters and stores the errors of the predictions\n",
    "for lr in lrs:\n",
    "\tfor n in factors:\n",
    "\t\tsvd = SVD(lr=lr, n_epochs=100, n_factors=n, early_stopping=False,\n",
    "\t\t\tshuffle=False, min_rating=1, max_rating=5)\n",
    "\n",
    "\t\tsvd.fit(X=train, X_val=val)\n",
    "\n",
    "\t\t# predicts the ratings for the user-movies and calculates the error comparing it to the test set\n",
    "\t\tpred = svd.predict(test)\n",
    "\t\tmae = mean_absolute_error(test['rating'], pred)\n",
    "\t\tmae_outputs.setdefault(lr, [])\n",
    "\t\tmae_outputs[lr].append(mae)"
   ]
  },
  {
   "cell_type": "code",
   "execution_count": 57,
   "metadata": {},
   "outputs": [
    {
     "data": {
      "image/png": "[encoded data removed]",
      "text/plain": [
       "<Figure size 432x288 with 1 Axes>"
      ]
     },
     "metadata": {
      "needs_background": "light"
     },
     "output_type": "display_data"
    },
    {
     "name": "stdout",
     "output_type": "stream",
     "text": [
      "Optimal Learning Rate: 0.001\n",
      "Optimal Number of Latent Factors: 25\n"
     ]
    }
   ],
   "source": [
    "for lr in mae_outputs:\n",
    "\tplt.plot(factors, mae_outputs[lr], label=f\"lr={lr}\")\n",
    "\n",
    "plt.ylabel(\"MAE\")\n",
    "plt.xlabel(\"Number of Latent Factors\")\n",
    "plt.xticks(factors)\n",
    "plt.title(\"Funk SVD MAE with different Latent Factors and Learning Rates\")\n",
    "plt.legend()\n",
    "plt.show()\n",
    "\n",
    "opt_lr, lr_n_factors = min(mae_outputs.items(), key=lambda x: min(x[1]))\n",
    "opt_n_factor = factors[lr_n_factors.index(min(lr_n_factors))]\n",
    "\n",
    "print(f\"Optimal Learning Rate: {opt_lr}\")\n",
    "print(f\"Optimal Number of Latent Factors: {opt_n_factor}\")\n"
   ]
  },
  {
   "cell_type": "markdown",
   "metadata": {},
   "source": [
    "## Predict for a rating of a user for rated and non rated movies example"
   ]
  },
  {
   "cell_type": "code",
   "execution_count": 58,
   "metadata": {},
   "outputs": [],
   "source": [
    "%%capture\n",
    "# Train SVD with optimal hyperparameters calculated previously\n",
    "svd = SVD(lr=0.01, n_epochs=100, n_factors=10, early_stopping=False,\n",
    "\t\t\tshuffle=False, min_rating=1, max_rating=5)\n",
    "\n",
    "svd.fit(X=train, X_val=val)"
   ]
  },
  {
   "cell_type": "code",
   "execution_count": 59,
   "metadata": {},
   "outputs": [
    {
     "name": "stdout",
     "output_type": "stream",
     "text": [
      "Rating prediction for user 707 of a rated movie (in training set) 815: 2.9, Actual Rating: 2.0\n",
      "Rating prediction for user 259 of a unrated movie (not in training set) 200: 4.2, Actual Rating: 4.0\n"
     ]
    }
   ],
   "source": [
    "user_id_rated = train.iloc[0, :].u_id\n",
    "movie_id_rated = train.iloc[0, :].i_id\n",
    "\n",
    "user_id_unrated = test.iloc[0, :].u_id\n",
    "movie_id_unrated = test.iloc[0, :].i_id\n",
    "\n",
    "def predict(svd, user_id, movie_id):\n",
    "\t# initialize prediction to global mean rating\n",
    "\tpred = svd.global_mean_\n",
    "\n",
    "\t# getting index assigned to the user id by the Funk SVD\n",
    "\tu_ix = svd.user_mapping_[user_id]\n",
    "\n",
    "\t# adding the bias associated with this user id\n",
    "\tpred += svd.bu_[u_ix]\n",
    "\n",
    "\t# getting index assigned to the movie id by the Funk SVD\n",
    "\ti_ix = svd.item_mapping_[movie_id]\n",
    "\n",
    "\t# adding the bias associated with the movie id\n",
    "\tpred= pred + svd.bi_[i_ix]\n",
    "\n",
    "\t# dot product between the associated user's and movie's latent factors\n",
    "\tpred+= np.dot(svd.pu_[u_ix], svd.qi_[i_ix])\n",
    "\n",
    "\treturn pred\n",
    "\n",
    "print(f\"Rating prediction for user {user_id_rated} of a rated movie (in training set) {movie_id_rated}: {predict(svd, user_id_rated, movie_id_rated):0.1f},\\\n",
    " Actual Rating: {ratings_matrix.iloc[user_id_rated - 1, movie_id_rated - 1]}\")\n",
    "print(f\"Rating prediction for user {user_id_unrated} of a unrated movie (not in training set) {movie_id_unrated}:\\\n",
    " {predict(svd, user_id_unrated, movie_id_unrated):0.1f},\\\n",
    " Actual Rating: {ratings_matrix.iloc[user_id_unrated - 1, movie_id_unrated - 1]}\")"
   ]
  },
  {
   "cell_type": "markdown",
   "metadata": {},
   "source": [
    "## Similarity Analysis\n",
    "\n",
    "Filtering and recommending based on information given by other users is known as collaborative filtering.\n",
    "\n",
    "It is possible to create a simple recommending system, based on the assumption that people with similar movie tastes are most likely to give similar movie ratings.\n",
    "\n",
    "So, for example, if a person is looking for a new movie and it has watched The Matrix, we can use a method, that is explained more in detail below, that can recommend movies with a similar rating pattern to The Matrix.\n",
    "\n",
    "We created a method that calculates the cosine similarity with movies latent factors, sorts them by most similar and return the top N."
   ]
  },
  {
   "cell_type": "code",
   "execution_count": 60,
   "metadata": {},
   "outputs": [
    {
     "name": "stdout",
     "output_type": "stream",
     "text": [
      "Recommendations for Toy Story (1995): \n",
      "\n",
      "Toy Story (1995)\n",
      "Shanghai Triad (Yao a yao yao dao waipo qiao) (1995)\n",
      "Apollo 13 (1995)\n",
      "Mighty Aphrodite (1995)\n",
      "Outbreak (1995)\n",
      "Recommendations for Toy Story (1995): \n",
      "\n",
      "Toy Story (1995)\n",
      "Bronx Tale, A (1993)\n",
      "Ma vie en rose (My Life in Pink) (1997)\n",
      "Desperado (1995)\n",
      "Broken Arrow (1996)\n"
     ]
    }
   ],
   "source": [
    "def top_cosine_similarity(data, item_id, top_n=5):\n",
    "    index = item_id - 1 #Ids starts from 1 in the dataset\n",
    "    row = data[index, :]\n",
    "    magnitude = np.sqrt(np.einsum('ij, ij -> i', data, data))\n",
    "    similarity = np.dot(row, data.T) / (magnitude[index] * magnitude)\n",
    "    sort_indexes = np.argsort(-similarity)\n",
    "    return sort_indexes[:top_n]\n",
    "\n",
    "# Function to print top N similar movies\n",
    "def print_similar_movies(movie_data, movie_id, top_indexes):\n",
    "    print('Recommendations for {0}: \\n'.format(\n",
    "        movie_data[movie_data.movie_id == movie_id].title.values[0]))\n",
    "    for id in top_indexes + 1:\n",
    "        print(movie_data[movie_data.movie_id == id].title.values[0])\n",
    "\n",
    "movie_id = 1\n",
    "top_n = 5\n",
    "\n",
    "# using the truncated svd\n",
    "top_indexes_movies = top_cosine_similarity(VT, movie_id, top_n)\n",
    "print_similar_movies(movies, movie_id, top_indexes_movies)\n",
    "\n",
    "# using funk svd\n",
    "top_indexes_movies = top_cosine_similarity(svd.qi_, movie_id, top_n)\n",
    "print_similar_movies(movies, movie_id, top_indexes_movies)"
   ]
  },
  {
   "cell_type": "markdown",
   "metadata": {},
   "source": [
    "The same process can be applied to users. This way we could recommend similar users, that may have interests in the same type of movies.\n",
    "\n",
    "In this method we use the users' associated latent factors."
   ]
  },
  {
   "cell_type": "code",
   "execution_count": 61,
   "metadata": {},
   "outputs": [
    {
     "name": "stdout",
     "output_type": "stream",
     "text": [
      "Recommendations for user [Id: 1, Age: 24, Sex: M, Occupation: technician]: \n",
      "\n",
      "[Id: 1, Age: 24, Sex: M, Occupation: technician]\n",
      "[Id: 864, Age: 27, Sex: M, Occupation: programmer]\n",
      "[Id: 387, Age: 33, Sex: M, Occupation: entertainment]\n",
      "[Id: 738, Age: 35, Sex: M, Occupation: technician]\n",
      "[Id: 301, Age: 24, Sex: M, Occupation: student]\n",
      "Recommendations for user [Id: 1, Age: 24, Sex: M, Occupation: technician]: \n",
      "\n",
      "[Id: 1, Age: 24, Sex: M, Occupation: technician]\n",
      "[Id: 897, Age: 30, Sex: M, Occupation: other]\n",
      "[Id: 578, Age: 31, Sex: M, Occupation: administrator]\n",
      "[Id: 274, Age: 20, Sex: F, Occupation: student]\n",
      "[Id: 234, Age: 60, Sex: M, Occupation: retired]\n"
     ]
    }
   ],
   "source": [
    "# Function to get formated user data\n",
    "def form_user_data(user_data, user_id):\n",
    "    user = user_data[user_data.user_id == user_id]\n",
    "    return f\"[Id: {user.user_id.values[0]}, Age: {user.age.values[0]}, Sex: {user.sex.values[0]}, Occupation: {user.occupation.values[0]}]\"\n",
    "\n",
    "# Function to print top N similar users\n",
    "def print_similar_users(user_data, user_id, top_indexes):\n",
    "    print('Recommendations for user {0}: \\n'.format(\n",
    "        form_user_data(user_data, user_id)\n",
    "    ))\n",
    "    for id in top_indexes + 1:\n",
    "        print(form_user_data(user_data, id))\n",
    "\n",
    "user_id = 1\n",
    "top_indexes_users = top_cosine_similarity(U, user_id, top_n)\n",
    "print_similar_users(users, user_id, top_indexes_users)\n",
    "\n",
    "# using funk svd\n",
    "top_indexes_users = top_cosine_similarity(svd.pu_, user_id, top_n)\n",
    "print_similar_users(users, user_id, top_indexes_users)"
   ]
  },
  {
   "cell_type": "markdown",
   "metadata": {},
   "source": [
    "It is also possible to visualize the similarity between items on a graphic, by taking the first two latent factors corresponding to the movies and displaying the movies on that plane. "
   ]
  },
  {
   "cell_type": "code",
   "execution_count": 62,
   "metadata": {},
   "outputs": [
    {
     "name": "stderr",
     "output_type": "stream",
     "text": [
      "No handles with labels found to put in legend.\n"
     ]
    },
    {
     "data": {
      "image/png": "[encoded data removed]",
      "text/plain": [
       "<Figure size 432x288 with 1 Axes>"
      ]
     },
     "metadata": {
      "needs_background": "light"
     },
     "output_type": "display_data"
    },
    {
     "name": "stderr",
     "output_type": "stream",
     "text": [
      "No handles with labels found to put in legend.\n"
     ]
    },
    {
     "data": {
      "image/png": "[encoded data removed]",
      "text/plain": [
       "<Figure size 432x288 with 1 Axes>"
      ]
     },
     "metadata": {
      "needs_background": "light"
     },
     "output_type": "display_data"
    }
   ],
   "source": [
    "for i in range(10):\n",
    "\tplt.plot(VT[i,0], VT[i,1], 'o')\n",
    "\tplt.annotate(movies[movies.movie_id == i+1].title.values[0], (VT[i,0], VT[i,1]))\n",
    "\n",
    "plt.ylabel(\"Latent Factor 1\")\n",
    "plt.xlabel(\"Latent Factor 2\")\n",
    "plt.title(\"Normal SVD\")\n",
    "plt.legend()\n",
    "plt.show()\n",
    "\n",
    "for i in range(10):\n",
    "\tplt.plot(svd.qi_[i,0], svd.qi_[i,1], 'o')\n",
    "\tplt.annotate(movies[movies.movie_id == i+1].title.values[0], (svd.qi_[i,0], svd.qi_[i,1]))\n",
    "\n",
    "plt.ylabel(\"Latent Factor 1\")\n",
    "plt.xlabel(\"Latent Factor 2\")\n",
    "plt.title(\"Funk SVD\")\n",
    "plt.legend()\n",
    "plt.show()"
   ]
  }
 ],
 "metadata": {
  "interpreter": {
   "hash": "d3d64d6f9de24c9f5dacafd9593950391c00d6e68bc9522e9fed72e7acec3906"
  },
  "kernelspec": {
   "display_name": "Python 3.8.4rc1 64-bit",
   "language": "python",
   "name": "python3"
  },
  "language_info": {
   "codemirror_mode": {
    "name": "ipython",
    "version": 3
   },
   "file_extension": ".py",
   "mimetype": "text/x-python",
   "name": "python",
   "nbconvert_exporter": "python",
   "pygments_lexer": "ipython3",
   "version": "3.8.5"
  },
  "orig_nbformat": 4
 },
 "nbformat": 4,
 "nbformat_minor": 2
}
